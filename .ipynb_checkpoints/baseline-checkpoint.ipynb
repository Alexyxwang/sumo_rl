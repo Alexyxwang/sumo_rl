{
 "cells": [
  {
   "cell_type": "code",
   "execution_count": null,
   "id": "2cfc533f-4073-4141-891a-decf6a6737df",
   "metadata": {},
   "outputs": [],
   "source": [
    "import os\n",
    "import sys\n",
    "import random"
   ]
  },
  {
   "cell_type": "code",
   "execution_count": null,
   "id": "960c328a-4b32-42ee-b82b-efafb4f893c2",
   "metadata": {},
   "outputs": [],
   "source": [
    "if \"SUMO_HOME\" in os.environ:\n",
    "    tools = os.path.join(os.environ[\"SUMO_HOME\"], \"tools\")\n",
    "    sys.path.append(tools)\n",
    "else:\n",
    "    sys.exit(\"Please declare environment variable 'SUMO_HOME'\")"
   ]
  },
  {
   "cell_type": "code",
   "execution_count": null,
   "id": "a4e7fa4f-d1f7-4787-991d-05e59ee94059",
   "metadata": {},
   "outputs": [],
   "source": [
    "import traci\n",
    "\n",
    "def sumo_config(traffic_pattern=\"junction\"):\n",
    "    sumo_config = [\n",
    "        \"sumo\",\n",
    "        \"-c\", \"SUMO_networks/\" + traffic_pattern + \".sumocfg\",\n",
    "        \"--step-length\", \"0.05\",\n",
    "        \"--delay\", \"0\",\n",
    "        \"--lateral-resolution\", \"0.1\",\n",
    "        \"--start\",\n",
    "        \"--no-warnings\",\n",
    "        \"--no-step-log\",\n",
    "    ]\n",
    "    return sumo_config\n",
    "\n",
    "traci.start(sumo_config())"
   ]
  }
 ],
 "metadata": {
  "kernelspec": {
   "display_name": "Python 3 (ipykernel)",
   "language": "python",
   "name": "python3"
  },
  "language_info": {
   "codemirror_mode": {
    "name": "ipython",
    "version": 3
   },
   "file_extension": ".py",
   "mimetype": "text/x-python",
   "name": "python",
   "nbconvert_exporter": "python",
   "pygments_lexer": "ipython3",
   "version": "3.11.9"
  }
 },
 "nbformat": 4,
 "nbformat_minor": 5
}
